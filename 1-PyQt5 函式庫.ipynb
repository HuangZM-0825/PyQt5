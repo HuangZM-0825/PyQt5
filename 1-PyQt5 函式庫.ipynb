{
 "cells": [
  {
   "cell_type": "markdown",
   "metadata": {},
   "source": [
    "#### PyQt5 函式庫\n",
    "PyQt5 是 Python 的一個第三方函式庫，是 Python 用來設計使用者介面 ( GUI ) 的函式庫，如果要設計比較美觀，或程式碼比較容易理解的介面，往往會使用 PyQt5 取代 Python 內建的 Tkinter 進行實作，這篇教學會介紹如何安裝 PyQt5 函式庫，以及 PyQt5 的基本介紹。"
   ]
  },
  {
   "cell_type": "markdown",
   "metadata": {},
   "source": [
    "#### PyQt5 的特色\n",
    "Qt 本身是 C++ 的函式庫，而 PyQt 則是 Qt 的分支，主要是使用 Python 搭配 Qt 進行介面的設計開發，PyQt 除了能利用 Python 語法，也保留了 Qt 的強大功能，大多數使用 Python 所開發出來的功能，都可以搭配 PyQt。\n",
    "\n",
    "- PyQt5 可以利用 Qt Designer 的視覺畫圖形編輯工具設計介面，再將介面轉換成 Python 程式碼後串接程式邏輯，大幅降低了介面設計的門檻。"
   ]
  },
  {
   "cell_type": "markdown",
   "metadata": {},
   "source": [
    "####　安裝 PyQt5 函式庫\n",
    "因為 Colab 不支援 GUI 介面編輯，所以必須使用 Anaconda 或 Python 虛擬環境，進入 Jupyter 或虛擬環境後，輸入下列指令，就能安裝 PyQt5 函式庫。\n",
    "- pip install PyQt5"
   ]
  },
  {
   "cell_type": "markdown",
   "metadata": {},
   "source": [
    "#### 簡單感受一下 PyQt5\n",
    "下方的程式碼執行後，會產生一個 300x200 的視窗，當中會有一個可以點擊的按鈕。"
   ]
  },
  {
   "cell_type": "code",
   "execution_count": null,
   "metadata": {},
   "outputs": [],
   "source": [
    "from PyQt5 import QtWidgets, QtCore\n",
    "import sys\n",
    "app = QtWidgets.QApplication(sys.argv)\n",
    "MainWindow = QtWidgets.QMainWindow()\n",
    "MainWindow.setObjectName(\"MainWindow\")\n",
    "MainWindow.setWindowTitle(\"oxxo.studio\")\n",
    "MainWindow.resize(300, 200)\n",
    "\n",
    "pushButton = QtWidgets.QPushButton(MainWindow)\n",
    "pushButton.setGeometry(QtCore.QRect(100, 70, 113, 32))\n",
    "pushButton.setObjectName(\"pushButton\")\n",
    "pushButton.setText(\"PushButton\")\n",
    "\n",
    "MainWindow.show()\n",
    "sys.exit(app.exec_())"
   ]
  },
  {
   "cell_type": "markdown",
   "metadata": {},
   "source": [
    "也可以將程式碼改成 class 的寫法。"
   ]
  },
  {
   "cell_type": "code",
   "execution_count": null,
   "metadata": {},
   "outputs": [],
   "source": [
    "from PyQt5 import QtWidgets, QtCore\n",
    "import sys\n",
    "\n",
    "class MyWidget(QtWidgets.QWidget):\n",
    "    def __init__(self):\n",
    "        super().__init__()\n",
    "        self.setObjectName(\"MainWindow\")\n",
    "        self.setWindowTitle('oxxo.studio')\n",
    "        self.resize(300, 200)\n",
    "        self.ui()\n",
    "\n",
    "    def ui(self):\n",
    "        pushButton = QtWidgets.QPushButton(self)\n",
    "        pushButton.setGeometry(QtCore.QRect(100, 70, 113, 32))\n",
    "        pushButton.setObjectName(\"pushButton\")\n",
    "        pushButton.setText(\"PushButton\")\n",
    "\n",
    "if __name__ == '__main__':\n",
    "    app = QtWidgets.QApplication(sys.argv)\n",
    "    MainWindow = MyWidget()\n",
    "    MainWindow.show()\n",
    "    sys.exit(app.exec_())"
   ]
  }
 ],
 "metadata": {
  "kernelspec": {
   "display_name": "base",
   "language": "python",
   "name": "python3"
  },
  "language_info": {
   "codemirror_mode": {
    "name": "ipython",
    "version": 3
   },
   "file_extension": ".py",
   "mimetype": "text/x-python",
   "name": "python",
   "nbconvert_exporter": "python",
   "pygments_lexer": "ipython3",
   "version": "3.11.7"
  }
 },
 "nbformat": 4,
 "nbformat_minor": 2
}
